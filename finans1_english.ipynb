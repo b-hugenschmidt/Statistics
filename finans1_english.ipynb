{
 "cells": [
  {
   "cell_type": "markdown",
   "metadata": {},
   "source": [
    "# Finans Projekt 1 - English\n",
    "This notebook is for assistance with the coding for many of the questions in the project.\n",
    "The sections are marked with the corresponding question in the Project description.\n",
    "Remember, this code is provided to get started with the project, but the code is not complete for answering the corresponding questions"
   ]
  },
  {
   "cell_type": "markdown",
   "metadata": {},
   "source": [
    "#### Initialize python packages"
   ]
  },
  {
   "cell_type": "code",
   "execution_count": null,
   "metadata": {},
   "outputs": [],
   "source": [
    "import numpy as np\n",
    "import pandas as pd\n",
    "import scipy.stats as stats\n",
    "import matplotlib.pyplot as plt\n",
    "import statsmodels.api as sm"
   ]
  },
  {
   "cell_type": "markdown",
   "metadata": {},
   "source": [
    "#### Read Data"
   ]
  },
  {
   "cell_type": "code",
   "execution_count": null,
   "metadata": {},
   "outputs": [],
   "source": [
    "# path to project data (replace with your own path)\n",
    "file_path = '/Users/johndoe/Documents/DTU/intro_stat/projects/finans1/finans1_data.csv'\n",
    "\n",
    "## Read data into a pandas DataFrame\n",
    "D = pd.read_csv(file_path, delimiter=\";\")\n",
    "## Keep only the dates and the ETFs AGG, VAW, IWN, and SPY\n",
    "D = D.loc[:, [\"t\", \"AGG\", \"VAW\", \"IWN\", \"SPY\"]]"
   ]
  },
  {
   "cell_type": "markdown",
   "metadata": {},
   "source": [
    "#### a) Simple summary of data"
   ]
  },
  {
   "cell_type": "code",
   "execution_count": null,
   "metadata": {},
   "outputs": [],
   "source": [
    "print(f\"Dimension of DataFrame: {D.shape}\") # f-strings allow us to insert variables directly into the string\n",
    "print(f\"Variable names: {D.columns}\")\n",
    "print(\"\\nFirst few rows of DataFrame:\") # \\n is the newline character for strings\n",
    "display(D.head())\n",
    "print(\"Last row of DataFrame:\")\n",
    "display(D.tail())\n",
    "print(\"Some summary statistics:\")\n",
    "display(D.describe())\n",
    "print(\"Data types:\", D.dtypes)"
   ]
  },
  {
   "cell_type": "markdown",
   "metadata": {},
   "source": [
    "#### b) Histogram (empirical density)"
   ]
  },
  {
   "cell_type": "code",
   "execution_count": null,
   "metadata": {},
   "outputs": [],
   "source": [
    "## Histogram describing the empirical density of the weekly returns from\n",
    "## AGG (histogram of weekly returns normalized to have an area of 1)\n",
    "plt.hist(D['AGG'].dropna(), bins=20, density=True, color='blue', edgecolor='black') # dropna() removes potential missing values\n",
    "plt.show()"
   ]
  },
  {
   "cell_type": "code",
   "execution_count": null,
   "metadata": {},
   "outputs": [],
   "source": []
  },
  {
   "cell_type": "markdown",
   "metadata": {},
   "source": [
    "#### Date variable t"
   ]
  },
  {
   "cell_type": "code",
   "execution_count": null,
   "metadata": {},
   "outputs": [],
   "source": [
    "# Converts the variable 't' to a date variable\n",
    "D['t'] = pd.to_datetime(D['t']) \n",
    "# to_datetime() method converts string to a datetime pandas object. \n",
    "# This is necesary to make it ordinal\n",
    "display(D['t'].describe())"
   ]
  },
  {
   "cell_type": "markdown",
   "metadata": {},
   "source": [
    "#### c) Plots of data over time "
   ]
  },
  {
   "cell_type": "code",
   "execution_count": null,
   "metadata": {},
   "outputs": [],
   "source": [
    "## Plot of weekly return over time for AGG\n",
    "ylim = (-0.2, 0.2)\n",
    "plt.plot(D['t'], D['AGG'], label='AGG')\n",
    "plt.ylim(ylim)\n",
    "plt.xlabel(\"Date\")\n",
    "plt.ylabel(\"Return AGG\")\n",
    "plt.show()\n",
    "## Similar plots for the three other ETFs\n",
    "for etf in ['VAW', 'IWN', 'SPY']:\n",
    "    plt.plot(D['t'], D[etf], label=etf)\n",
    "    plt.ylim(ylim)\n",
    "    plt.xlabel(\"Date\")\n",
    "    plt.ylabel(f\"Return {etf}\")\n",
    "    plt.show()"
   ]
  },
  {
   "cell_type": "markdown",
   "metadata": {},
   "source": [
    "#### d) Box plots by ETF"
   ]
  },
  {
   "cell_type": "code",
   "execution_count": null,
   "metadata": {},
   "outputs": [],
   "source": [
    "etfs = ['AGG', 'VAW', 'IWN', 'SPY']\n",
    "\n",
    "plt.figure(figsize=(10, 6))\n",
    "plt.boxplot([D['AGG'],D['VAW'],D['IWN'],D['SPY']], labels=etfs)\n",
    "plt.xlabel(\"ETF\")\n",
    "plt.ylabel(\"Return\")\n",
    "plt.grid(axis='y')\n",
    "plt.show()"
   ]
  },
  {
   "cell_type": "markdown",
   "metadata": {},
   "source": [
    "#### e) Key summary statistics for AGG"
   ]
  },
  {
   "cell_type": "code",
   "execution_count": null,
   "metadata": {},
   "outputs": [],
   "source": [
    "print(f\"Total number of observations (without missing values): {D['AGG'].notna().sum()}\")\n",
    "print(f\"Sample mean of weekly returns: {np.mean(D['AGG'])}\")\n",
    "print(f\"Sample variance of weekly returns: {np.var(D['AGG'], ddof=1)}\") # ddof=1 as we want the *sample* variance"
   ]
  },
  {
   "cell_type": "markdown",
   "metadata": {},
   "source": [
    "#### f) QQ-plot for model validation"
   ]
  },
  {
   "cell_type": "code",
   "execution_count": null,
   "metadata": {},
   "outputs": [],
   "source": [
    "# QQ-plot for AGG's weekly returns\n",
    "sm.qqplot(D['AGG'].dropna(), line ='q')\n",
    "plt.show()"
   ]
  },
  {
   "cell_type": "markdown",
   "metadata": {},
   "source": [
    "#### g-h) One-sample t-test"
   ]
  },
  {
   "cell_type": "code",
   "execution_count": null,
   "metadata": {},
   "outputs": [],
   "source": [
    "# Test hypothesis mu = 0 for AGG's weekly returns\n",
    "res = stats.ttest_1samp(D['AGG'], popmean=0)\n",
    "print(f\"Test statistic: {res.statistic}\")\n",
    "print(f\"P-value: {res.pvalue}\")\n",
    "\n",
    "# Confidence interval\n",
    "print(res.confidence_interval())\n"
   ]
  },
  {
   "cell_type": "markdown",
   "metadata": {},
   "source": [
    "#### i) Welch t-test"
   ]
  },
  {
   "cell_type": "code",
   "execution_count": null,
   "metadata": {},
   "outputs": [],
   "source": [
    "# Comaring the mean weekly returns of VAW and AGG\n",
    "res = stats.ttest_ind(D['VAW'].dropna(), D['AGG'].dropna(), equal_var=False)\n",
    "print(f\"Test statistic: {res.statistic}\")\n",
    "print(f\"P-value: {res.pvalue}\")"
   ]
  },
  {
   "cell_type": "markdown",
   "metadata": {},
   "source": [
    "#### k) Correlation"
   ]
  },
  {
   "cell_type": "code",
   "execution_count": null,
   "metadata": {},
   "outputs": [],
   "source": [
    "# Computing the  correlation between selected ETFs\n",
    "correlation_matrix = D[[\"AGG\", \"VAW\", \"IWN\", \"SPY\"]].corr()\n",
    "display(correlation_matrix)"
   ]
  },
  {
   "cell_type": "markdown",
   "metadata": {},
   "source": [
    "## EXTRA\n",
    "#### Subsets in Python"
   ]
  },
  {
   "cell_type": "code",
   "execution_count": null,
   "metadata": {},
   "outputs": [],
   "source": [
    "## df['AGG'] < 0 returns all observations where AGG is negative\n",
    "## Can be used to extract all AGG losses\n",
    "loss_weeks = D['AGG'] < 0\n",
    "agg_losses = D['AGG'][loss_weeks]\n",
    "print(\"Weeks with negative returns in AGG:\")\n",
    "display(agg_losses)\n",
    "\n",
    "## Alternatively, use the 'query' method\n",
    "agg_losses_query = D.query('AGG < 0')\n",
    "print(\"Weeks with negative returns in AGG (query method):\")\n",
    "display(agg_losses_query)\n",
    "# Or use the 'loc' method\n",
    "agg_losses_loc = D.loc[D['AGG'] < 0, 'AGG']\n",
    "print(\"Weeks with negative returns in AGG (loc method):\")\n",
    "display(agg_losses_loc)\n",
    "\n",
    "## More complex logical expressions can be made, e.g.:\n",
    "## Find all observations from weeks where AGG had a loss and SPY had a gain\n",
    "agg_loss_spy_gain = D.query('AGG < 0 & SPY > 0')\n",
    "print(\"Weeks with negative AGG returns and positive SPY returns:\")\n",
    "display(agg_loss_spy_gain)\n",
    "\n",
    "# \"display()\" function gives a nicer table than print. It is \n",
    "# especially useful when working with dataframes (pandas)"
   ]
  },
  {
   "cell_type": "markdown",
   "metadata": {},
   "source": [
    "#### Additional Python tips"
   ]
  },
  {
   "cell_type": "code",
   "execution_count": null,
   "metadata": {},
   "outputs": [],
   "source": [
    "## Make a for loop to calculate some summary \n",
    "## statistics and save the result in a new data frame\n",
    "Tbl = pd.DataFrame()\n",
    "for i in ['AGG', 'VAW', 'IWN', 'SPY']:\n",
    "    Tbl.loc[i, \"ETF_mean\"] = D[i].mean()\n",
    "    Tbl.loc[i, \"ETF_var\"] = D[i].var(ddof=1) \n",
    "    \n",
    "# show\n",
    "display(Tbl)"
   ]
  },
  {
   "cell_type": "code",
   "execution_count": null,
   "metadata": {},
   "outputs": [],
   "source": [
    "# There are many other ways to do these calculations, some more concise. For example\n",
    "# Calculate mean and variance for all columns but 't'\n",
    "result = D.drop(columns='t').agg(['mean', 'var'])\n",
    "# The agg function(aggregate) is used to calculate the mean and variance of returns for each ETF.\n",
    "display(result)\n",
    "\n",
    "# See more functions in pandas documentation: https://pandas.pydata.org/pandas-docs/stable/reference/api/pandas.DataFrame.html\n",
    "# Numpy documentationen: https://numpy.org/doc/stable/reference/index.html\n",
    "# Or find documentation or guides on other python packages/functions online."
   ]
  },
  {
   "cell_type": "markdown",
   "metadata": {},
   "source": [
    "#### Latex Tips\n",
    "Pandas (pd) also includes a function that is very handy for writing tables/dataframes directly into Latex-code. \n",
    "This is done by usind the function `pd.to_latex()`.\n",
    "The following is the simplest form of the function:"
   ]
  },
  {
   "cell_type": "code",
   "execution_count": null,
   "metadata": {},
   "outputs": [],
   "source": [
    "Tbl_latex = Tbl.to_latex()\n",
    "print(Tbl_latex)"
   ]
  }
 ],
 "metadata": {
  "kernelspec": {
   "display_name": "Python 3",
   "language": "python",
   "name": "python3"
  },
  "language_info": {
   "codemirror_mode": {
    "name": "ipython",
    "version": 3
   },
   "file_extension": ".py",
   "mimetype": "text/x-python",
   "name": "python",
   "nbconvert_exporter": "python",
   "pygments_lexer": "ipython3",
   "version": "3.11.4"
  }
 },
 "nbformat": 4,
 "nbformat_minor": 2
}
